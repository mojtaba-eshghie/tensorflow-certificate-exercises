{
 "cells": [
  {
   "cell_type": "markdown",
   "metadata": {},
   "source": [
    "# Just tensor operations!"
   ]
  },
  {
   "cell_type": "code",
   "execution_count": 2,
   "metadata": {},
   "outputs": [],
   "source": [
    "import tensorflow as tf"
   ]
  },
  {
   "cell_type": "code",
   "execution_count": 4,
   "metadata": {},
   "outputs": [
    {
     "name": "stdout",
     "output_type": "stream",
     "text": [
      "2.4.1\n"
     ]
    }
   ],
   "source": [
    "print(tf.__version__)"
   ]
  },
  {
   "cell_type": "code",
   "execution_count": 10,
   "metadata": {},
   "outputs": [
    {
     "name": "stdout",
     "output_type": "stream",
     "text": [
      "tf.Tensor(7, shape=(), dtype=int32)\n",
      "0\n"
     ]
    }
   ],
   "source": [
    "scalar = tf.constant(7)\n",
    "print(scalar)\n",
    "print(scalar.ndim)"
   ]
  },
  {
   "cell_type": "code",
   "execution_count": 13,
   "metadata": {},
   "outputs": [
    {
     "name": "stdout",
     "output_type": "stream",
     "text": [
      "tf.Tensor([10 10], shape=(2,), dtype=int32)\n",
      "1\n",
      "(2,)\n"
     ]
    }
   ],
   "source": [
    "# playing with vectors \n",
    "vector = tf.constant([10, 10])\n",
    "print(vector)\n",
    "print(vector.ndim)\n",
    "print(vector.shape)"
   ]
  },
  {
   "cell_type": "code",
   "execution_count": 20,
   "metadata": {},
   "outputs": [
    {
     "name": "stdout",
     "output_type": "stream",
     "text": [
      "tf.Tensor(\n",
      "[[10  7]\n",
      " [10  7]], shape=(2, 2), dtype=int32)\n",
      "2\n"
     ]
    }
   ],
   "source": [
    "# playing with matrices\n",
    "\n",
    "matrix = tf.constant([[10, 7], [10, 7]])\n",
    "print(matrix)\n",
    "print(matrix.ndim)"
   ]
  },
  {
   "cell_type": "code",
   "execution_count": 27,
   "metadata": {},
   "outputs": [
    {
     "name": "stdout",
     "output_type": "stream",
     "text": [
      "tf.Tensor(\n",
      "[[10.  7.]\n",
      " [ 1.  2.]\n",
      " [ 8.  9.]], shape=(3, 2), dtype=float16)\n",
      "2\n"
     ]
    }
   ],
   "source": [
    "# create another matrix \n",
    "another_matrix = tf.constant([[10., 7.], [1., 2.], [8., 9.]], dtype=tf.float16)\n",
    "print(another_matrix)\n",
    "print(another_matrix.ndim)"
   ]
  },
  {
   "cell_type": "code",
   "execution_count": 30,
   "metadata": {},
   "outputs": [
    {
     "name": "stdout",
     "output_type": "stream",
     "text": [
      "tf.Tensor(\n",
      "[[1 2 3]\n",
      " [1 2 3]], shape=(2, 3), dtype=int32)\n"
     ]
    }
   ],
   "source": [
    "# let's begin creating tensors \n",
    "tensor = tf.constant([[1, 2, 3], [1, 2, 3]])\n",
    "print(tensor)"
   ]
  },
  {
   "cell_type": "code",
   "execution_count": 32,
   "metadata": {},
   "outputs": [
    {
     "name": "stdout",
     "output_type": "stream",
     "text": [
      "<tf.Variable 'Variable:0' shape=(2, 2) dtype=int32, numpy=\n",
      "array([[10,  7],\n",
      "       [ 7, 10]], dtype=int32)>\n",
      "tf.Tensor(\n",
      "[[10  7]\n",
      " [ 7 10]], shape=(2, 2), dtype=int32)\n"
     ]
    }
   ],
   "source": [
    "# Creating tensors with tf.VAriable \n",
    "changable_tensor = tf.Variable([[10, 7], [7, 10]])\n",
    "unchangable_tensor = tf.constant([[10, 7], [7, 10]])\n",
    "print(changable_tensor)\n",
    "print(unchangable_tensor)"
   ]
  },
  {
   "cell_type": "code",
   "execution_count": 41,
   "metadata": {},
   "outputs": [
    {
     "ename": "TypeError",
     "evalue": "'ResourceVariable' object does not support item assignment",
     "output_type": "error",
     "traceback": [
      "\u001b[0;31m---------------------------------------------------------------------------\u001b[0m",
      "\u001b[0;31mTypeError\u001b[0m                                 Traceback (most recent call last)",
      "\u001b[0;32m<ipython-input-41-b8a0e0203605>\u001b[0m in \u001b[0;36m<module>\u001b[0;34m\u001b[0m\n\u001b[1;32m      1\u001b[0m \u001b[0;31m# try to change elements in those different tensors:\u001b[0m\u001b[0;34m\u001b[0m\u001b[0;34m\u001b[0m\u001b[0;34m\u001b[0m\u001b[0m\n\u001b[0;32m----> 2\u001b[0;31m \u001b[0mchangable_tensor\u001b[0m\u001b[0;34m[\u001b[0m\u001b[0;36m0\u001b[0m\u001b[0;34m,\u001b[0m \u001b[0;36m0\u001b[0m\u001b[0;34m]\u001b[0m \u001b[0;34m=\u001b[0m \u001b[0;36m8\u001b[0m\u001b[0;34m\u001b[0m\u001b[0;34m\u001b[0m\u001b[0m\n\u001b[0m\u001b[1;32m      3\u001b[0m \u001b[0munchangable_tensor\u001b[0m\u001b[0;34m[\u001b[0m\u001b[0;36m0\u001b[0m\u001b[0;34m,\u001b[0m \u001b[0;36m0\u001b[0m\u001b[0;34m]\u001b[0m \u001b[0;34m=\u001b[0m \u001b[0;36m8\u001b[0m\u001b[0;34m\u001b[0m\u001b[0;34m\u001b[0m\u001b[0m\n",
      "\u001b[0;31mTypeError\u001b[0m: 'ResourceVariable' object does not support item assignment"
     ]
    }
   ],
   "source": [
    "# try to change elements in those different tensors:\n",
    "changable_tensor[0, 0] = 8\n",
    "unchangable_tensor[0, 0] = 8"
   ]
  },
  {
   "cell_type": "code",
   "execution_count": 42,
   "metadata": {},
   "outputs": [
    {
     "name": "stdout",
     "output_type": "stream",
     "text": [
      "<tf.Variable 'Variable:0' shape=(2, 2) dtype=int32, numpy=\n",
      "array([[ 8,  7],\n",
      "       [ 7, 10]], dtype=int32)>\n"
     ]
    }
   ],
   "source": [
    "# trying to change the chanagable tensor using another way\n",
    "changable_tensor[0, 0].assign(8)\n",
    "print(changable_tensor)"
   ]
  },
  {
   "cell_type": "code",
   "execution_count": 43,
   "metadata": {},
   "outputs": [
    {
     "ename": "AttributeError",
     "evalue": "'tensorflow.python.framework.ops.EagerTensor' object has no attribute 'assign'",
     "output_type": "error",
     "traceback": [
      "\u001b[0;31m---------------------------------------------------------------------------\u001b[0m",
      "\u001b[0;31mAttributeError\u001b[0m                            Traceback (most recent call last)",
      "\u001b[0;32m<ipython-input-43-3f258d288e18>\u001b[0m in \u001b[0;36m<module>\u001b[0;34m\u001b[0m\n\u001b[1;32m      1\u001b[0m \u001b[0;31m# trying to change the unchangable tensor using another way\u001b[0m\u001b[0;34m\u001b[0m\u001b[0;34m\u001b[0m\u001b[0;34m\u001b[0m\u001b[0m\n\u001b[0;32m----> 2\u001b[0;31m \u001b[0munchangable_tensor\u001b[0m\u001b[0;34m[\u001b[0m\u001b[0;36m0\u001b[0m\u001b[0;34m,\u001b[0m \u001b[0;36m0\u001b[0m\u001b[0;34m]\u001b[0m\u001b[0;34m.\u001b[0m\u001b[0massign\u001b[0m\u001b[0;34m(\u001b[0m\u001b[0;36m8\u001b[0m\u001b[0;34m)\u001b[0m\u001b[0;34m\u001b[0m\u001b[0;34m\u001b[0m\u001b[0m\n\u001b[0m\u001b[1;32m      3\u001b[0m \u001b[0mprint\u001b[0m\u001b[0;34m(\u001b[0m\u001b[0mchangable_tensor\u001b[0m\u001b[0;34m)\u001b[0m\u001b[0;34m\u001b[0m\u001b[0;34m\u001b[0m\u001b[0m\n",
      "\u001b[0;31mAttributeError\u001b[0m: 'tensorflow.python.framework.ops.EagerTensor' object has no attribute 'assign'"
     ]
    }
   ],
   "source": [
    "# trying to change the unchangable tensor using another way\n",
    "unchangable_tensor[0, 0].assign(8)\n",
    "print(changable_tensor)"
   ]
  },
  {
   "cell_type": "code",
   "execution_count": 48,
   "metadata": {},
   "outputs": [
    {
     "name": "stdout",
     "output_type": "stream",
     "text": [
      "(3, 2)\n",
      "tf.Tensor(\n",
      "[[-0.7565803  -0.06854702]\n",
      " [ 0.07595026 -1.2573844 ]\n",
      " [-0.23193763 -1.8107855 ]], shape=(3, 2), dtype=float32)\n"
     ]
    }
   ],
   "source": [
    "# Using random tensors\n",
    "random_1 = tf.random.Generator.from_seed(42) # setting seed for reproducability\n",
    "random_1 = random_1.normal(shape=(3, 2))\n",
    "print(random_1.shape)\n",
    "print(random_1)"
   ]
  },
  {
   "cell_type": "code",
   "execution_count": 104,
   "metadata": {},
   "outputs": [
    {
     "name": "stdout",
     "output_type": "stream",
     "text": [
      "tf.Tensor(\n",
      "[[-1  0]\n",
      " [ 1  2]\n",
      " [ 3  4]], shape=(3, 2), dtype=int32)\n",
      "tf.Tensor(\n",
      "[[-1  0]\n",
      " [ 1  2]\n",
      " [ 3  4]], shape=(3, 2), dtype=int32)\n"
     ]
    }
   ],
   "source": [
    "# shuffling the order of elements in a tensor tensor\n",
    "not_shuffled = tf.constant([[-1, 0], [1, 2], [3, 4]])\n",
    "print(not_shuffled)\n",
    "\n",
    "shuffled = tf.random.shuffle(not_shuffled, seed=42)\n",
    "\n",
    "print(shuffled)"
   ]
  },
  {
   "cell_type": "code",
   "execution_count": 114,
   "metadata": {},
   "outputs": [
    {
     "name": "stdout",
     "output_type": "stream",
     "text": [
      "tf.Tensor(\n",
      "[[-1  0]\n",
      " [ 3  4]\n",
      " [ 1  2]], shape=(3, 2), dtype=int32)\n"
     ]
    }
   ],
   "source": [
    "\n",
    "# as you will see bellow after a number of sufflings you will get different results \n",
    "shuffled = tf.random.shuffle(not_shuffled, seed=42)\n",
    "\n",
    "print(shuffled)"
   ]
  },
  {
   "cell_type": "code",
   "execution_count": 128,
   "metadata": {},
   "outputs": [
    {
     "name": "stdout",
     "output_type": "stream",
     "text": [
      "tf.Tensor(\n",
      "[[-1  0]\n",
      " [ 1  2]\n",
      " [ 3  4]], shape=(3, 2), dtype=int32)\n"
     ]
    }
   ],
   "source": [
    "# but this way, you can get the same order! (both the operation-level and global-level seeds need to be set to deterministically produce random output )\n",
    "tf.random.set_seed(42)\n",
    "shuffled = tf.random.shuffle(not_shuffled, seed=42)\n",
    "print(shuffled)"
   ]
  },
  {
   "cell_type": "code",
   "execution_count": 140,
   "metadata": {},
   "outputs": [
    {
     "name": "stdout",
     "output_type": "stream",
     "text": [
      "[[[1. 1. 1.]\n",
      "  [1. 1. 1.]]\n",
      "\n",
      " [[1. 1. 1.]\n",
      "  [1. 1. 1.]]\n",
      "\n",
      " [[1. 1. 1.]\n",
      "  [1. 1. 1.]]\n",
      "\n",
      " [[1. 1. 1.]\n",
      "  [1. 1. 1.]]\n",
      "\n",
      " [[1. 1. 1.]\n",
      "  [1. 1. 1.]]]\n",
      "[[[0. 0. 0.]\n",
      "  [0. 0. 0.]]\n",
      "\n",
      " [[0. 0. 0.]\n",
      "  [0. 0. 0.]]\n",
      "\n",
      " [[0. 0. 0.]\n",
      "  [0. 0. 0.]]\n",
      "\n",
      " [[0. 0. 0.]\n",
      "  [0. 0. 0.]]\n",
      "\n",
      " [[0. 0. 0.]\n",
      "  [0. 0. 0.]]]\n",
      "[ 1  2  3  4  5  6  7  8  9 10 11 12 13 14 15 16 17 18 19 20 21 22 23 24]\n",
      "tf.Tensor([ 1  2  3  4  5  6  7  8  9 10 11 12 13 14 15 16 17 18 19 20 21 22 23 24], shape=(24,), dtype=int32)\n",
      "tf.Tensor(\n",
      "[[[ 1  2  3  4]\n",
      "  [ 5  6  7  8]\n",
      "  [ 9 10 11 12]]\n",
      "\n",
      " [[13 14 15 16]\n",
      "  [17 18 19 20]\n",
      "  [21 22 23 24]]], shape=(2, 3, 4), dtype=int32)\n"
     ]
    }
   ],
   "source": [
    "# Playing with other ways we have to create our tensors\n",
    "import numpy as np\n",
    "\n",
    "ones = np.ones(shape=(5, 2, 3))       \n",
    "print(ones)\n",
    "\n",
    "ones = np.zeros(shape=(5, 2, 3))       \n",
    "print(ones)\n",
    "\n",
    "# turn np ars to tf tensors:\n",
    "\n",
    "# Hint: you use capital letters for matrix and non-cap for vectors\n",
    "np_A = np.arange(1, 25, dtype=np.int32) # this will create a tensor-like object!\n",
    "tf_A = tf.constant(np_A)\n",
    "tf_B = tf.constant(np_A, shape=(2, 3, 4)) \n",
    "print(np_A)\n",
    "print(tf_A)\n",
    "print(tf_B)\n",
    "\n"
   ]
  },
  {
   "cell_type": "code",
   "execution_count": 141,
   "metadata": {},
   "outputs": [],
   "source": [
    "# the most important information about the tensors:\n",
    "# 1. axis or dimention: a particular axis of the tensor: t[0, :] which is the first row\n",
    "# 2. size: total num of stuff in the tensor\n",
    "# 3. rank: # of tensor dimentations => scalar has rank 0, tensor has rank n, matrix has rank 2\n",
    "# 4. shape"
   ]
  },
  {
   "cell_type": "code",
   "execution_count": 151,
   "metadata": {},
   "outputs": [
    {
     "name": "stdout",
     "output_type": "stream",
     "text": [
      "tf.Tensor(\n",
      "[[[[-1.5192095   0.720424    1.0274152   0.8495138  -0.12118822\n",
      "     1.2286534   1.3224288   0.5263655  -1.0726968 ]\n",
      "   [-0.15847443 -2.0752518  -2.0175176   1.8219861  -0.17638868\n",
      "     0.5331409  -0.788109    0.33984604 -1.0300598 ]\n",
      "   [-1.1844534  -0.7996488  -0.73568696  0.27281994  1.9092387\n",
      "    -0.6452335  -0.5682918  -2.4179578  -0.949775  ]\n",
      "   [-0.74240965 -0.17762421 -0.4307022   0.18037981  1.2891542\n",
      "     0.3617188  -1.2375034   0.981118   -0.5096442 ]\n",
      "   [-0.1461284   0.3747933   0.22653389 -0.57038045 -0.50904447\n",
      "     0.4016178   0.10046963 -1.0865864   2.0519838 ]\n",
      "   [ 0.6308927   0.3077204   0.3900467  -0.11137234 -0.51449716\n",
      "    -0.46986154 -0.8681604  -0.06980452  0.21168704]]\n",
      "\n",
      "  [[-1.2618831  -0.6814878  -1.4747126   0.7862976  -0.93069404\n",
      "    -1.1816639   1.1117176  -1.1115844  -0.23774447]\n",
      "   [ 1.2730241  -0.81233984 -0.8393727   0.21031417  1.0768498\n",
      "     0.26008767 -0.35208124 -0.87636274  0.6996424 ]\n",
      "   [-1.8611109  -0.16546796  0.65970486  0.22830811  0.14161885\n",
      "     0.03917682 -1.855427   -0.44815862 -0.36336628]\n",
      "   [-0.2107904   0.39653563 -0.43790242  0.07339913 -0.3567149\n",
      "    -0.08575293  0.10147873  0.7382344  -1.6170965 ]\n",
      "   [ 0.65519476 -0.38426894  0.40722927  1.8199774  -0.4732693\n",
      "    -1.4371883   0.03268466 -0.09347871  2.288074  ]\n",
      "   [-0.777777   -0.48018992  0.16593455 -0.45039836  1.1567166\n",
      "    -0.9815197   0.7358907  -2.2430606   1.2039716 ]]\n",
      "\n",
      "  [[ 0.513164    0.53690594  0.10501785 -1.6557753  -1.0423995\n",
      "    -0.40922523  0.3635825   0.38369647 -1.5356185 ]\n",
      "   [-0.573096   -1.5767545   0.7279966   1.1304468   1.4289621\n",
      "     0.47250876 -0.30870736 -1.450012   -0.90249884]\n",
      "   [ 1.7169942  -1.1615351   1.0021862  -1.0494983   1.7585957\n",
      "     0.55226606  0.9193518  -1.4477574   0.22917722]\n",
      "   [-0.3133896   1.5234454  -0.77639866  1.1097841   0.6637268\n",
      "     1.2419007  -0.35761377  0.47337338 -0.15178919]\n",
      "   [-1.2134626   0.7983842  -1.3182166   0.87937427 -0.7925049\n",
      "     0.7916609  -1.1579285  -1.4757164  -0.17757396]\n",
      "   [-0.49189672  1.0668596  -1.4095715   2.7856476  -0.10081295\n",
      "     0.58604795 -0.8443615  -0.42524663 -0.03278525]]\n",
      "\n",
      "  [[ 0.14504588 -0.38379103 -0.8356383  -1.0622597   0.45030412\n",
      "     1.0951983  -0.3483673   0.9728218  -1.3856258 ]\n",
      "   [ 0.5219189   0.45995018  0.2918117   0.06458694  0.771878\n",
      "    -1.0050316  -0.950381    0.5605053  -0.03659817]\n",
      "   [ 0.12332857 -0.2517865   0.73466814 -0.842583   -0.39388138\n",
      "     0.29101953  0.6597548   0.53787214 -0.30219978]\n",
      "   [ 0.31374544 -0.5507364  -1.2671542  -1.5941802   0.06003575\n",
      "    -1.317134   -0.9872915  -0.7834594   0.90546155]\n",
      "   [-2.2954667   0.85188144  0.6844802   1.509566   -1.6292964\n",
      "    -1.0810778   1.600263    1.0269017  -0.94569296]\n",
      "   [ 2.365057    0.12480863 -0.03323002  0.23253238  1.6045514\n",
      "    -1.1349207   1.5204154   0.50523883 -0.86104244]]\n",
      "\n",
      "  [[ 1.3097836  -0.43606982 -0.01317667  1.7448759   0.72494256\n",
      "    -0.6407256   0.08875068  1.3017929  -1.6991476 ]\n",
      "   [-0.52762413  0.09982233 -0.7610701   0.293709   -0.720921\n",
      "     0.709932    0.6589306   0.23691927  0.9242061 ]\n",
      "   [ 0.64104104 -0.6294472  -0.85955566  0.21056639  2.1860564\n",
      "     0.10937186  0.19287443 -0.05961723 -1.3343132 ]\n",
      "   [-1.5675157  -0.44449973  0.9191242  -0.73708826 -0.45972925\n",
      "     0.05651685 -1.1642509  -0.15390266 -0.9641267 ]\n",
      "   [ 0.5750456  -0.87754065 -0.00446463 -0.69423085 -0.06317011\n",
      "    -0.46688133  0.51200926  0.04883904 -0.3994618 ]\n",
      "   [-0.31717598  0.5607791  -0.06869689 -0.2328803  -0.54884154\n",
      "    -0.3432824   0.7880546  -0.05225372 -0.01440806]]]], shape=(1, 5, 6, 9), dtype=float32)\n"
     ]
    }
   ],
   "source": [
    "# indexing tensors:\n",
    "# they can be indexed just like python lists\n",
    "random_1 = tf.random.Generator.from_seed(42) # setting seed for reproducability\n",
    "random_1 = random_1.normal(shape=(5, 7, 8, 9))\n",
    "\n",
    "# here, print the all elements except the first two elements in each dimension except for first and last dimentions that these rules are applied:\n",
    "# 1. For last dimention we have all of its elements included\n",
    "# 2. For the first dimention we have just the last element included \n",
    "print(random_1[4:, 2:, 2:, :])\n"
   ]
  },
  {
   "cell_type": "code",
   "execution_count": 159,
   "metadata": {},
   "outputs": [
    {
     "name": "stdout",
     "output_type": "stream",
     "text": [
      "tf.Tensor(\n",
      "[-0.7565803  -0.06854702  0.07595026 -1.2573844  -0.23193763 -1.8107855\n",
      "  0.09988727 -0.50998646 -0.7535805 ], shape=(9,), dtype=float32)\n"
     ]
    }
   ],
   "source": [
    "# get the first element from each dimention from each index except for the final one (the dimention is included by default if you just skip it)\n",
    "print(random_1[0, 0, 0])"
   ]
  },
  {
   "cell_type": "code",
   "execution_count": 160,
   "metadata": {},
   "outputs": [
    {
     "name": "stdout",
     "output_type": "stream",
     "text": [
      "tf.Tensor(\n",
      "[[[[-0.7565803  -0.06854702  0.07595026 -1.2573844  -0.23193763\n",
      "    -1.8107855   0.09988727 -0.50998646 -0.7535805 ]]]], shape=(1, 1, 1, 9), dtype=float32)\n"
     ]
    }
   ],
   "source": [
    "# this one should also give the same results with different shape\n",
    "print(random_1[:1, :1, :1, :])"
   ]
  },
  {
   "cell_type": "code",
   "execution_count": 164,
   "metadata": {},
   "outputs": [
    {
     "name": "stdout",
     "output_type": "stream",
     "text": [
      "(2, 2)\n",
      "2\n"
     ]
    }
   ],
   "source": [
    "# create a rank 2 tensor (2 dimensions), and then upgrade it to a rank 3 tensor (3 dimensions)\n",
    "rank_2_tensor = tf.constant([[2, 3], [4, 5]])\n",
    "print(rank_2_tensor.shape)\n",
    "print(rank_2_tensor.ndim)"
   ]
  },
  {
   "cell_type": "code",
   "execution_count": 166,
   "metadata": {},
   "outputs": [
    {
     "name": "stdout",
     "output_type": "stream",
     "text": [
      "tf.Tensor([3 5], shape=(2,), dtype=int32)\n"
     ]
    }
   ],
   "source": [
    "# getting the last item of each row:\n",
    "print(rank_2_tensor[:, -1])"
   ]
  },
  {
   "cell_type": "code",
   "execution_count": 167,
   "metadata": {},
   "outputs": [
    {
     "name": "stdout",
     "output_type": "stream",
     "text": [
      "(2, 2, 1)\n"
     ]
    }
   ],
   "source": [
    "# altering the shape of the tensor (adding extra dimension keeping the exact same information)\n",
    "rank_3_tensor = rank_2_tensor[..., tf.newaxis]\n",
    "print(rank_3_tensor.shape)"
   ]
  },
  {
   "cell_type": "code",
   "execution_count": 172,
   "metadata": {},
   "outputs": [
    {
     "name": "stdout",
     "output_type": "stream",
     "text": [
      "(2, 2, 1)\n"
     ]
    }
   ],
   "source": [
    "# alternative to tf.newaxis\n",
    "\n",
    "rank_3_tensor_alt = tf.expand_dims(rank_2_tensor, axis=-1) # I used -1 to expand upon the last axis\n",
    "print(rank_3_tensor_alt.shape)"
   ]
  },
  {
   "cell_type": "code",
   "execution_count": 173,
   "metadata": {},
   "outputs": [
    {
     "name": "stdout",
     "output_type": "stream",
     "text": [
      "tf.Tensor(\n",
      "[[[2]\n",
      "  [3]]\n",
      "\n",
      " [[4]\n",
      "  [5]]], shape=(2, 2, 1), dtype=int32)\n",
      "tf.Tensor(\n",
      "[[[2]\n",
      "  [3]]\n",
      "\n",
      " [[4]\n",
      "  [5]]], shape=(2, 2, 1), dtype=int32)\n"
     ]
    }
   ],
   "source": [
    "print(rank_3_tensor)\n",
    "print(rank_3_tensor_alt)"
   ]
  },
  {
   "cell_type": "code",
   "execution_count": 176,
   "metadata": {},
   "outputs": [
    {
     "name": "stdout",
     "output_type": "stream",
     "text": [
      "tf.Tensor(\n",
      "[[1 2]\n",
      " [3 4]], shape=(2, 2), dtype=int32)\n",
      "tf.Tensor(\n",
      "[[11 12]\n",
      " [13 14]], shape=(2, 2), dtype=int32)\n",
      "tf.Tensor(\n",
      "[[0.1 0.2]\n",
      " [0.3 0.4]], shape=(2, 2), dtype=float64)\n"
     ]
    }
   ],
   "source": [
    "# basic operations with tensors\n",
    "tensor = tf.constant([[1, 2], [3, 4]])\n",
    "print(tensor)\n",
    "print(tensor + 10)\n",
    "print(tensor / 10)"
   ]
  },
  {
   "cell_type": "code",
   "execution_count": 177,
   "metadata": {},
   "outputs": [
    {
     "name": "stdout",
     "output_type": "stream",
     "text": [
      "tf.Tensor(\n",
      "[[ 1  4]\n",
      " [ 9 16]], shape=(2, 2), dtype=int32)\n"
     ]
    }
   ],
   "source": [
    "# it is possible to use the tf.math.multiply which is the tensorflow built-in function,... which by the way is not dot product\n",
    "print(tf.multiply(tensor, tensor))"
   ]
  },
  {
   "cell_type": "code",
   "execution_count": 182,
   "metadata": {},
   "outputs": [
    {
     "name": "stdout",
     "output_type": "stream",
     "text": [
      "tf.Tensor(\n",
      "[[ 7 10]\n",
      " [15 22]], shape=(2, 2), dtype=int32)\n",
      "tf.Tensor(\n",
      "[[ 7 10]\n",
      " [15 22]], shape=(2, 2), dtype=int32)\n",
      "tf.Tensor(\n",
      "[[ 1  4]\n",
      " [ 9 16]], shape=(2, 2), dtype=int32)\n"
     ]
    }
   ],
   "source": [
    "# Matrix multiplication (dot product)\n",
    "print(tf.matmul(tensor, tensor))\n",
    "\n",
    "\n",
    "# What if I use @ python operator?\n",
    "print(tensor @ tensor)\n",
    "\n",
    "\n",
    "# what about * python operator?\n",
    "print(tensor * tensor)"
   ]
  },
  {
   "cell_type": "code",
   "execution_count": null,
   "metadata": {},
   "outputs": [],
   "source": []
  },
  {
   "cell_type": "code",
   "execution_count": null,
   "metadata": {},
   "outputs": [],
   "source": []
  }
 ],
 "metadata": {
  "interpreter": {
   "hash": "31f2aee4e71d21fbe5cf8b01ff0e069b9275f58929596ceb00d14d90e3e16cd6"
  },
  "kernelspec": {
   "display_name": "Python 3.8.2 64-bit",
   "name": "python3"
  },
  "language_info": {
   "codemirror_mode": {
    "name": "ipython",
    "version": 3
   },
   "file_extension": ".py",
   "mimetype": "text/x-python",
   "name": "python",
   "nbconvert_exporter": "python",
   "pygments_lexer": "ipython3",
   "version": "3.8.3"
  },
  "orig_nbformat": 4
 },
 "nbformat": 4,
 "nbformat_minor": 2
}